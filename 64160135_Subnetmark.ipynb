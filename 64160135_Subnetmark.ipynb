{
  "nbformat": 4,
  "nbformat_minor": 0,
  "metadata": {
    "colab": {
      "provenance": [],
      "include_colab_link": true
    },
    "kernelspec": {
      "name": "python3",
      "display_name": "Python 3"
    },
    "language_info": {
      "name": "python"
    }
  },
  "cells": [
    {
      "cell_type": "markdown",
      "metadata": {
        "id": "view-in-github",
        "colab_type": "text"
      },
      "source": [
        "<a href=\"https://colab.research.google.com/github/ThanchanokPalang/ThanchanokPalang/blob/circleci-project-setup/64160135_Subnetmark.ipynb\" target=\"_parent\"><img src=\"https://colab.research.google.com/assets/colab-badge.svg\" alt=\"Open In Colab\"/></a>"
      ]
    },
    {
      "cell_type": "code",
      "source": [
        "import ipaddress\n",
        "\n",
        "# ฟังก์ชันในการคำนวณโดยรับค้า ipกับ ความยาวของ subnet Prefix\n",
        "def calculate_subnet_info(ip, prefix_length):\n",
        "    # การคำนวณค่า Subnet แล้วส่งค่าผลลัพธ์ โดยใช้ ipaddress.IPv4Network\n",
        "    try:\n",
        "        network = ipaddress.IPv4Network(f'{ip}/{prefix_length}', strict=False)\n",
        "        subnet_mask = str(network.netmask)\n",
        "        wildcard_mask = str(network.hostmask)\n",
        "        mask_bits = prefix_length\n",
        "        hosts_per_subnet = 2 ** (32 - prefix_length) - 2\n",
        "        network_address = str(network.network_address)\n",
        "        broadcast_address = str(network.broadcast_address)\n",
        "        subnet_id = str(network.network_address)\n",
        "\n",
        "        # โค้ดจะตรวจสอบคลาสของเครือข่ายโดยดูที่ first octet ของ IP address\n",
        "        # และกำหนดคลาสให้กับเครือข่าย A, B, C, ตามช่วงที่กำหนด.\n",
        "        first_octet = int(ip.split('.')[0])\n",
        "        network_class = 'Unknown'\n",
        "        if 1 <= first_octet <= 126:\n",
        "            network_class = 'A'\n",
        "            subnet_bits = prefix_length - 8\n",
        "            maximum_subnets = 2 ** subnet_bits\n",
        "        elif 128 <= first_octet <= 191:\n",
        "            network_class = 'B'\n",
        "            subnet_bits = prefix_length - 16\n",
        "            maximum_subnets = 2 ** subnet_bits\n",
        "        elif 192 <= first_octet <= 223:\n",
        "            network_class = 'C'\n",
        "            subnet_bits = prefix_length - 24\n",
        "            maximum_subnets = 2 ** subnet_bits\n",
        "\n",
        "        # แปลงค่า IP เป็นฐาน 16 และเก็บค่า Hex IP Address\n",
        "        hex_ip = '.'.join([format(int(octet), '02X') for octet in ip.split('.')])\n",
        "\n",
        "        # ต่อมาเราจะตัด IP ส่วนหัวและท้ายที่เป็น Network IP และ Broadcast หรือเรียกรวม Subnet Zero\n",
        "        host_address_range = f'{str(network.network_address + 1)} - {str(network.broadcast_address - 1)}'\n",
        "\n",
        "        # คำนวณ Subnet Bitmap\n",
        "        subnet_bitmap = f\"1{'0' * subnet_bits}.{subnet_mask.split('.')[-1]}\"\n",
        "\n",
        "        # ถ้าข้อมูลที่ Input เข้าไปไม่ตรงตามเงื่อนไขก็คืนค่าข้อความ \"Invalid IP address or prefix length.\"\n",
        "        return f\"Network Class: {network_class}\\nFirst Octet Range: {first_octet}-255\\nHex IP Address: {hex_ip}\\nIP Address: {ip}\\nSubnet Mask: {subnet_mask}\\nWildcard Mask: {wildcard_mask}\\nSubnet Bits: {subnet_bits}\\nMask Bits: {mask_bits}\\nMaximum Subnets: {maximum_subnets}\\nHosts per Subnet: {hosts_per_subnet}\\nHost Address Range: {host_address_range}\\nSubnet ID: {subnet_id}\\nBroadcast Address: {broadcast_address}\\nSubnet Bitmap: {subnet_bitmap}\"\n",
        "    except ValueError:\n",
        "        return \"Invalid IP address or prefix length.\"\n",
        "\n",
        "# รับ input ค่า IP และ Subnet Prefix โดยเรียกฟังก์ชัน calculate_subnet_info เพื่อคิดค่า Subnet และทำการแสดงผลออกมา\n",
        "ip = input(\"Enter IP address (e.g., 192.168.1.1): \")\n",
        "prefix_length = int(input(\"Enter subnet prefix length (e.g., 24): \"))\n",
        "result = calculate_subnet_info(ip, prefix_length)\n",
        "print(result)\n"
      ],
      "metadata": {
        "colab": {
          "base_uri": "https://localhost:8080/"
        },
        "id": "dWg4FjX410Ap",
        "outputId": "f2286ea2-5978-4df5-f455-3ff9252c57eb"
      },
      "execution_count": 3,
      "outputs": [
        {
          "output_type": "stream",
          "name": "stdout",
          "text": [
            "Enter IP address (e.g., 192.168.1.1): 192.168.1.1\n",
            "Enter subnet prefix length (e.g., 24): 27\n",
            "Network Class: C\n",
            "First Octet Range: 192-255\n",
            "Hex IP Address: C0.A8.01.01\n",
            "IP Address: 192.168.1.1\n",
            "Subnet Mask: 255.255.255.224\n",
            "Wildcard Mask: 0.0.0.31\n",
            "Subnet Bits: 3\n",
            "Mask Bits: 27\n",
            "Maximum Subnets: 8\n",
            "Hosts per Subnet: 30\n",
            "Host Address Range: 192.168.1.1 - 192.168.1.30\n",
            "Subnet ID: 192.168.1.0\n",
            "Broadcast Address: 192.168.1.31\n",
            "Subnet Bitmap: 1000.224\n"
          ]
        }
      ]
    }
  ]
}